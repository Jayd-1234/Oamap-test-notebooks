{
 "cells": [
  {
   "cell_type": "markdown",
   "metadata": {},
   "source": [
    "# Combinations with numpy\n",
    "\n",
    "### Description\n",
    "\n",
    "The combinations function takes two numpy arrays, and creates all possible combination out of them.\n",
    "\n",
    "The basic idea is to stack up two numpy arrays, according to last dimension. The arrays are made same size by repeating them. \n",
    "\n",
    "### Inputs\n",
    "a, b: numpy arrays\n",
    "\n",
    "### Output\n",
    "arr: output combinations array\n",
    "\n",
    "### Important note\n",
    "The problem is widely discussed in a stackoverflow question [here](https://stackoverflow.com/a/11146645/9548133). Please note @senderle's and @Paul's answer, which includes a wide number of approaches to do the same. I didn't include them to keep originality intact. Also, note that using meshgrid can make the function applicable to a larger number of input arrays ."
   ]
  },
  {
   "cell_type": "code",
   "execution_count": 3,
   "metadata": {},
   "outputs": [],
   "source": [
    "import numpy as np"
   ]
  },
  {
   "cell_type": "code",
   "execution_count": 19,
   "metadata": {},
   "outputs": [],
   "source": [
    "def comb(a, b):\n",
    "    return np.stack((np.tile(a,len(b)),np.tile(b,len(a))), axis=-1)"
   ]
  },
  {
   "cell_type": "code",
   "execution_count": 21,
   "metadata": {},
   "outputs": [],
   "source": [
    "#Let's create dummy arrays\n",
    "a = np.array([1,2,3])\n",
    "b = np.array(['a','b'])"
   ]
  },
  {
   "cell_type": "code",
   "execution_count": 22,
   "metadata": {},
   "outputs": [
    {
     "data": {
      "text/plain": [
       "array([['1', 'a'],\n",
       "       ['2', 'b'],\n",
       "       ['3', 'a'],\n",
       "       ['1', 'b'],\n",
       "       ['2', 'a'],\n",
       "       ['3', 'b']], \n",
       "      dtype='<U11')"
      ]
     },
     "execution_count": 22,
     "metadata": {},
     "output_type": "execute_result"
    }
   ],
   "source": [
    "#Let's test it\n",
    "comb(a,b)"
   ]
  }
 ],
 "metadata": {
  "kernelspec": {
   "display_name": "Python 3",
   "language": "python",
   "name": "python3"
  },
  "language_info": {
   "codemirror_mode": {
    "name": "ipython",
    "version": 3
   },
   "file_extension": ".py",
   "mimetype": "text/x-python",
   "name": "python",
   "nbconvert_exporter": "python",
   "pygments_lexer": "ipython3",
   "version": "3.6.5"
  }
 },
 "nbformat": 4,
 "nbformat_minor": 2
}
